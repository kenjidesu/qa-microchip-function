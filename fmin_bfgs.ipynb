{
 "cells": [
  {
   "cell_type": "code",
   "execution_count": 136,
   "id": "478ac7d4",
   "metadata": {},
   "outputs": [],
   "source": [
    "import numpy as np\n",
    "import pandas as pd\n",
    "from scipy.optimize import fmin_bfgs\n",
    "import matplotlib.pyplot as plt"
   ]
  },
  {
   "cell_type": "code",
   "execution_count": 205,
   "id": "e6330ddf",
   "metadata": {},
   "outputs": [
    {
     "data": {
      "text/plain": [
       "(118, 2)"
      ]
     },
     "execution_count": 205,
     "metadata": {},
     "output_type": "execute_result"
    }
   ],
   "source": [
    "data = np.loadtxt('ex2.txt', delimiter=',')\n",
    "X = data[:, :2]\n",
    "y = data[:, 2]\n",
    "X.shape"
   ]
  },
  {
   "cell_type": "code",
   "execution_count": 206,
   "id": "6bb43ba1",
   "metadata": {},
   "outputs": [],
   "source": [
    "def mapFeature(X1, X2):\n",
    "    m = X1.size\n",
    "    \n",
    "    degree = 6\n",
    "    out = np.c_[np.ones(m)]\n",
    "    \n",
    "    for i in range(1, degree+1):\n",
    "        for j in range(i+1):\n",
    "            terms = (X1 ** (i - j) * X2 ** j)\n",
    "            out = np.c_[out, terms]\n",
    "\n",
    "    return out"
   ]
  },
  {
   "cell_type": "code",
   "execution_count": 207,
   "id": "488e8a85",
   "metadata": {},
   "outputs": [
    {
     "data": {
      "text/plain": [
       "(118, 28)"
      ]
     },
     "execution_count": 207,
     "metadata": {},
     "output_type": "execute_result"
    }
   ],
   "source": [
    "X = mapFeature(X[:, 0], X[:, 1])\n",
    "X.shape"
   ]
  },
  {
   "cell_type": "code",
   "execution_count": 208,
   "id": "a599aa31",
   "metadata": {},
   "outputs": [],
   "source": [
    "def sigmoid(z):\n",
    "    g = 1 / (1 + np.exp(-z))\n",
    "    return g"
   ]
  },
  {
   "cell_type": "code",
   "execution_count": 204,
   "id": "9418c5a4",
   "metadata": {},
   "outputs": [],
   "source": [
    "def comp_cost(theta, X, y, lamb):\n",
    "    h = sigmoid(X.dot(theta))\n",
    "    J = 1/m * (-y.T.dot(np.log(h)) - (1-y).T.dot(np.log(1-h)))\n",
    "    \n",
    "    theta = theta[1:]\n",
    "    reg = lamb / (2*m) * np.sum(theta ** 2)\n",
    "    J = J + reg\n",
    "    return J"
   ]
  },
  {
   "cell_type": "code",
   "execution_count": 209,
   "id": "811be89e",
   "metadata": {},
   "outputs": [],
   "source": [
    "def comp_grad(theta, X, y, lamb):\n",
    "    h = sigmoid(X.dot(theta))\n",
    "    grad = (1/m) * X.T.dot(h-y)\n",
    "    \n",
    "    theta = theta[1:]\n",
    "    grad[1:] = grad[1:] + (lamb/m) * theta\n",
    "    return grad"
   ]
  },
  {
   "cell_type": "code",
   "execution_count": 210,
   "id": "81eae585",
   "metadata": {},
   "outputs": [],
   "source": [
    "m, n = X.shape\n",
    "initial_theta = np.zeros((n, 1))"
   ]
  },
  {
   "cell_type": "code",
   "execution_count": 144,
   "id": "c1d99769",
   "metadata": {},
   "outputs": [],
   "source": [
    "def f(theta):\n",
    "    return comp_cost(theta, X, y, 100).flatten()"
   ]
  },
  {
   "cell_type": "code",
   "execution_count": 145,
   "id": "e0af9527",
   "metadata": {},
   "outputs": [],
   "source": [
    "def fprime(theta):\n",
    "    return comp_grad(theta, X, y, 100).flatten()"
   ]
  },
  {
   "cell_type": "code",
   "execution_count": 146,
   "id": "d2a3d271",
   "metadata": {
    "scrolled": false
   },
   "outputs": [
    {
     "name": "stdout",
     "output_type": "stream",
     "text": [
      "Optimization terminated successfully.\n",
      "         Current function value: 0.686484\n",
      "         Iterations: 7\n",
      "         Function evaluations: 8\n",
      "         Gradient evaluations: 8\n"
     ]
    }
   ],
   "source": [
    "theta = fmin_bfgs(f, initial_theta, fprime)"
   ]
  },
  {
   "cell_type": "code",
   "execution_count": 147,
   "id": "9dee6617",
   "metadata": {
    "scrolled": false
   },
   "outputs": [
    {
     "data": {
      "text/plain": [
       "array([[ 0.02188603],\n",
       "       [-0.01748169],\n",
       "       [ 0.00571031],\n",
       "       [-0.0551694 ],\n",
       "       [-0.01314888],\n",
       "       [-0.03859919],\n",
       "       [-0.01846356],\n",
       "       [-0.00773236],\n",
       "       [-0.00892434],\n",
       "       [-0.02280491],\n",
       "       [-0.04343876],\n",
       "       [-0.00235623],\n",
       "       [-0.01415631],\n",
       "       [-0.00349509],\n",
       "       [-0.04143634],\n",
       "       [-0.02100597],\n",
       "       [-0.00471924],\n",
       "       [-0.00359133],\n",
       "       [-0.00632236],\n",
       "       [-0.00502443],\n",
       "       [-0.03197706],\n",
       "       [-0.03416353],\n",
       "       [-0.00107628],\n",
       "       [-0.00702623],\n",
       "       [-0.00038506],\n",
       "       [-0.0079824 ],\n",
       "       [-0.00154778],\n",
       "       [-0.04108711]])"
      ]
     },
     "execution_count": 147,
     "metadata": {},
     "output_type": "execute_result"
    }
   ],
   "source": [
    "theta = theta.reshape(n, 1)\n",
    "theta"
   ]
  },
  {
   "cell_type": "code",
   "execution_count": 199,
   "id": "6604b782",
   "metadata": {},
   "outputs": [],
   "source": [
    "def plotData(X, y):\n",
    "    # Visualize Data\n",
    "    pos = X[np.where(y == 1)].T\n",
    "    neg = X[np.where(y == 0)].T\n",
    "\n",
    "    plt.plot(pos[0], pos[1], 'k+', linewidth='2', markersize='7')\n",
    "    plt.plot(neg[0], neg[1], 'ko', markerfacecolor='y', markersize='7')"
   ]
  },
  {
   "cell_type": "code",
   "execution_count": 200,
   "id": "a840a7c7",
   "metadata": {},
   "outputs": [],
   "source": [
    "def plotDecBoundary(theta, X, y):\n",
    "    u = np.linspace(-1, 1.5, 50)\n",
    "    v = np.linspace(-1, 1.5, 50)\n",
    "    \n",
    "    z = np.zeros((len(u), len(v)))\n",
    "    \n",
    "    for i in range(len(u)):\n",
    "        for j in range(len(v)):\n",
    "            z[i, j] = mapFeature(u[i], v[j]).dot(theta)\n",
    "            \n",
    "    z = z.T\n",
    "    plt.contour(u, v, z, [0][0])\n",
    "            "
   ]
  },
  {
   "cell_type": "code",
   "execution_count": 201,
   "id": "67dd55ae",
   "metadata": {
    "scrolled": true
   },
   "outputs": [
    {
     "data": {
      "image/png": "[encoded data removed]",
      "text/plain": [
       "<Figure size 432x288 with 1 Axes>"
      ]
     },
     "metadata": {
      "needs_background": "light"
     },
     "output_type": "display_data"
    }
   ],
   "source": [
    "data = pd.read_csv('ex2.txt', header=None)\n",
    "plotData(X, y)\n",
    "plotDecBoundary(theta, X, y)"
   ]
  },
  {
   "cell_type": "code",
   "execution_count": 158,
   "id": "1650cda7",
   "metadata": {},
   "outputs": [
    {
     "data": {
      "text/plain": [
       "(array([ 0,  1,  2,  3,  4,  5,  6,  7,  8,  9, 10, 11, 12, 13, 14, 15, 16,\n",
       "        17, 18, 19, 20, 21, 22, 23, 24, 25, 26, 27, 28, 29, 30, 31, 32, 33,\n",
       "        34, 35, 36, 37, 38, 39, 40, 41, 42, 43, 44, 45, 46, 47, 48, 49, 50,\n",
       "        51, 52, 53, 54, 55, 56, 57], dtype=int64),)"
      ]
     },
     "execution_count": 158,
     "metadata": {},
     "output_type": "execute_result"
    }
   ],
   "source": [
    "np.where(y == 1)"
   ]
  },
  {
   "cell_type": "code",
   "execution_count": 186,
   "id": "0442fd4a",
   "metadata": {},
   "outputs": [],
   "source": [
    "pos =np.where(y == 1)"
   ]
  },
  {
   "cell_type": "code",
   "execution_count": 193,
   "id": "afabc4c4",
   "metadata": {},
   "outputs": [
    {
     "data": {
      "text/plain": [
       "array([ 0.051267 , -0.092742 , -0.21371  , -0.375    , -0.51325  ,\n",
       "       -0.52477  , -0.39804  , -0.30588  ,  0.016705 ,  0.13191  ,\n",
       "        0.38537  ,  0.52938  ,  0.63882  ,  0.73675  ,  0.54666  ,\n",
       "        0.322    ,  0.16647  , -0.046659 , -0.17339  , -0.47869  ,\n",
       "       -0.60541  , -0.62846  , -0.59389  , -0.42108  , -0.11578  ,\n",
       "        0.20104  ,  0.46601  ,  0.67339  , -0.13882  , -0.29435  ,\n",
       "       -0.26555  , -0.16187  , -0.17339  , -0.28283  , -0.36348  ,\n",
       "       -0.30012  , -0.23675  , -0.06394  ,  0.062788 ,  0.22984  ,\n",
       "        0.2932   ,  0.48329  ,  0.64459  ,  0.46025  ,  0.6273   ,\n",
       "        0.57546  ,  0.72523  ,  0.22408  ,  0.44297  ,  0.322    ,\n",
       "        0.13767  , -0.0063364, -0.092742 , -0.20795  , -0.20795  ,\n",
       "       -0.43836  , -0.21947  , -0.13882  ])"
      ]
     },
     "execution_count": 193,
     "metadata": {},
     "output_type": "execute_result"
    }
   ],
   "source": [
    "X[pos].T[0]"
   ]
  },
  {
   "cell_type": "code",
   "execution_count": 198,
   "id": "2cb2f354",
   "metadata": {},
   "outputs": [
    {
     "data": {
      "text/plain": [
       "array([ 0.69956 ,  0.68494 ,  0.69225 ,  0.50219 ,  0.46564 ,  0.2098  ,\n",
       "        0.034357, -0.19225 , -0.40424 , -0.51389 , -0.56506 , -0.5212  ,\n",
       "       -0.24342 , -0.18494 ,  0.48757 ,  0.5826  ,  0.53874 ,  0.81652 ,\n",
       "        0.69956 ,  0.63377 ,  0.59722 ,  0.33406 ,  0.005117, -0.27266 ,\n",
       "       -0.39693 , -0.60161 , -0.53582 , -0.53582 ,  0.54605 ,  0.77997 ,\n",
       "        0.96272 ,  0.8019  ,  0.64839 ,  0.47295 ,  0.31213 ,  0.027047,\n",
       "       -0.21418 , -0.18494 , -0.16301 , -0.41155 , -0.2288  , -0.18494 ,\n",
       "       -0.14108 ,  0.012427,  0.15863 ,  0.26827 ,  0.44371 ,  0.52412 ,\n",
       "        0.67032 ,  0.69225 ,  0.57529 ,  0.39985 ,  0.55336 ,  0.35599 ,\n",
       "        0.17325 ,  0.21711 , -0.016813, -0.27266 ])"
      ]
     },
     "execution_count": 198,
     "metadata": {},
     "output_type": "execute_result"
    }
   ],
   "source": [
    "X[np.where(y == 1)].T[1]"
   ]
  },
  {
   "cell_type": "code",
   "execution_count": 216,
   "id": "346a492d",
   "metadata": {},
   "outputs": [
    {
     "data": {
      "text/html": [
       "<div>\n",
       "<style scoped>\n",
       "    .dataframe tbody tr th:only-of-type {\n",
       "        vertical-align: middle;\n",
       "    }\n",
       "\n",
       "    .dataframe tbody tr th {\n",
       "        vertical-align: top;\n",
       "    }\n",
       "\n",
       "    .dataframe thead th {\n",
       "        text-align: right;\n",
       "    }\n",
       "</style>\n",
       "<table border=\"1\" class=\"dataframe\">\n",
       "  <thead>\n",
       "    <tr style=\"text-align: right;\">\n",
       "      <th></th>\n",
       "      <th>0</th>\n",
       "    </tr>\n",
       "  </thead>\n",
       "  <tbody>\n",
       "    <tr>\n",
       "      <th>0</th>\n",
       "      <td>0.008475</td>\n",
       "    </tr>\n",
       "    <tr>\n",
       "      <th>1</th>\n",
       "      <td>0.018788</td>\n",
       "    </tr>\n",
       "    <tr>\n",
       "      <th>2</th>\n",
       "      <td>0.000078</td>\n",
       "    </tr>\n",
       "    <tr>\n",
       "      <th>3</th>\n",
       "      <td>0.050345</td>\n",
       "    </tr>\n",
       "    <tr>\n",
       "      <th>4</th>\n",
       "      <td>0.011501</td>\n",
       "    </tr>\n",
       "    <tr>\n",
       "      <th>5</th>\n",
       "      <td>0.037665</td>\n",
       "    </tr>\n",
       "    <tr>\n",
       "      <th>6</th>\n",
       "      <td>0.018356</td>\n",
       "    </tr>\n",
       "    <tr>\n",
       "      <th>7</th>\n",
       "      <td>0.007324</td>\n",
       "    </tr>\n",
       "    <tr>\n",
       "      <th>8</th>\n",
       "      <td>0.008192</td>\n",
       "    </tr>\n",
       "    <tr>\n",
       "      <th>9</th>\n",
       "      <td>0.023476</td>\n",
       "    </tr>\n",
       "    <tr>\n",
       "      <th>10</th>\n",
       "      <td>0.039349</td>\n",
       "    </tr>\n",
       "    <tr>\n",
       "      <th>11</th>\n",
       "      <td>0.002239</td>\n",
       "    </tr>\n",
       "    <tr>\n",
       "      <th>12</th>\n",
       "      <td>0.012860</td>\n",
       "    </tr>\n",
       "    <tr>\n",
       "      <th>13</th>\n",
       "      <td>0.003096</td>\n",
       "    </tr>\n",
       "    <tr>\n",
       "      <th>14</th>\n",
       "      <td>0.039303</td>\n",
       "    </tr>\n",
       "    <tr>\n",
       "      <th>15</th>\n",
       "      <td>0.019971</td>\n",
       "    </tr>\n",
       "    <tr>\n",
       "      <th>16</th>\n",
       "      <td>0.004330</td>\n",
       "    </tr>\n",
       "    <tr>\n",
       "      <th>17</th>\n",
       "      <td>0.003386</td>\n",
       "    </tr>\n",
       "    <tr>\n",
       "      <th>18</th>\n",
       "      <td>0.005838</td>\n",
       "    </tr>\n",
       "    <tr>\n",
       "      <th>19</th>\n",
       "      <td>0.004476</td>\n",
       "    </tr>\n",
       "    <tr>\n",
       "      <th>20</th>\n",
       "      <td>0.031008</td>\n",
       "    </tr>\n",
       "    <tr>\n",
       "      <th>21</th>\n",
       "      <td>0.031031</td>\n",
       "    </tr>\n",
       "    <tr>\n",
       "      <th>22</th>\n",
       "      <td>0.001097</td>\n",
       "    </tr>\n",
       "    <tr>\n",
       "      <th>23</th>\n",
       "      <td>0.006316</td>\n",
       "    </tr>\n",
       "    <tr>\n",
       "      <th>24</th>\n",
       "      <td>0.000409</td>\n",
       "    </tr>\n",
       "    <tr>\n",
       "      <th>25</th>\n",
       "      <td>0.007265</td>\n",
       "    </tr>\n",
       "    <tr>\n",
       "      <th>26</th>\n",
       "      <td>0.001376</td>\n",
       "    </tr>\n",
       "    <tr>\n",
       "      <th>27</th>\n",
       "      <td>0.038794</td>\n",
       "    </tr>\n",
       "  </tbody>\n",
       "</table>\n",
       "</div>"
      ],
      "text/plain": [
       "           0\n",
       "0   0.008475\n",
       "1   0.018788\n",
       "2   0.000078\n",
       "3   0.050345\n",
       "4   0.011501\n",
       "5   0.037665\n",
       "6   0.018356\n",
       "7   0.007324\n",
       "8   0.008192\n",
       "9   0.023476\n",
       "10  0.039349\n",
       "11  0.002239\n",
       "12  0.012860\n",
       "13  0.003096\n",
       "14  0.039303\n",
       "15  0.019971\n",
       "16  0.004330\n",
       "17  0.003386\n",
       "18  0.005838\n",
       "19  0.004476\n",
       "20  0.031008\n",
       "21  0.031031\n",
       "22  0.001097\n",
       "23  0.006316\n",
       "24  0.000409\n",
       "25  0.007265\n",
       "26  0.001376\n",
       "27  0.038794"
      ]
     },
     "execution_count": 216,
     "metadata": {},
     "output_type": "execute_result"
    }
   ],
   "source": [
    "theta = comp_grad(initial_theta, X, data[:, [2]], 1)\n",
    "pd.DataFrame(theta)"
   ]
  },
  {
   "cell_type": "code",
   "execution_count": null,
   "id": "e050d9bd",
   "metadata": {},
   "outputs": [],
   "source": []
  }
 ],
 "metadata": {
  "kernelspec": {
   "display_name": "Python 3 (ipykernel)",
   "language": "python",
   "name": "python3"
  },
  "language_info": {
   "codemirror_mode": {
    "name": "ipython",
    "version": 3
   },
   "file_extension": ".py",
   "mimetype": "text/x-python",
   "name": "python",
   "nbconvert_exporter": "python",
   "pygments_lexer": "ipython3",
   "version": "3.9.7"
  }
 },
 "nbformat": 4,
 "nbformat_minor": 5
}
