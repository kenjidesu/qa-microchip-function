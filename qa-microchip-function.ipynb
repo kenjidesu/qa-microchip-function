{
 "cells": [
  {
   "cell_type": "code",
   "execution_count": 1,
   "id": "57c9a65e",
   "metadata": {},
   "outputs": [],
   "source": [
    "import numpy as np\n",
    "import pandas as pd\n",
    "import matplotlib.pyplot as plt\n",
    "from scipy.optimize import fmin_bfgs\n",
    "%matplotlib inline"
   ]
  },
  {
   "cell_type": "markdown",
   "id": "17625713",
   "metadata": {},
   "source": [
    "## Load the Data"
   ]
  },
  {
   "cell_type": "code",
   "execution_count": 2,
   "id": "5bc1c15f",
   "metadata": {},
   "outputs": [
    {
     "data": {
      "text/html": [
       "<div>\n",
       "<style scoped>\n",
       "    .dataframe tbody tr th:only-of-type {\n",
       "        vertical-align: middle;\n",
       "    }\n",
       "\n",
       "    .dataframe tbody tr th {\n",
       "        vertical-align: top;\n",
       "    }\n",
       "\n",
       "    .dataframe thead th {\n",
       "        text-align: right;\n",
       "    }\n",
       "</style>\n",
       "<table border=\"1\" class=\"dataframe\">\n",
       "  <thead>\n",
       "    <tr style=\"text-align: right;\">\n",
       "      <th></th>\n",
       "      <th>0</th>\n",
       "      <th>1</th>\n",
       "      <th>2</th>\n",
       "    </tr>\n",
       "  </thead>\n",
       "  <tbody>\n",
       "    <tr>\n",
       "      <th>0</th>\n",
       "      <td>0.051267</td>\n",
       "      <td>0.69956</td>\n",
       "      <td>1.0</td>\n",
       "    </tr>\n",
       "    <tr>\n",
       "      <th>1</th>\n",
       "      <td>-0.092742</td>\n",
       "      <td>0.68494</td>\n",
       "      <td>1.0</td>\n",
       "    </tr>\n",
       "    <tr>\n",
       "      <th>2</th>\n",
       "      <td>-0.213710</td>\n",
       "      <td>0.69225</td>\n",
       "      <td>1.0</td>\n",
       "    </tr>\n",
       "    <tr>\n",
       "      <th>3</th>\n",
       "      <td>-0.375000</td>\n",
       "      <td>0.50219</td>\n",
       "      <td>1.0</td>\n",
       "    </tr>\n",
       "    <tr>\n",
       "      <th>4</th>\n",
       "      <td>-0.513250</td>\n",
       "      <td>0.46564</td>\n",
       "      <td>1.0</td>\n",
       "    </tr>\n",
       "  </tbody>\n",
       "</table>\n",
       "</div>"
      ],
      "text/plain": [
       "          0        1    2\n",
       "0  0.051267  0.69956  1.0\n",
       "1 -0.092742  0.68494  1.0\n",
       "2 -0.213710  0.69225  1.0\n",
       "3 -0.375000  0.50219  1.0\n",
       "4 -0.513250  0.46564  1.0"
      ]
     },
     "execution_count": 2,
     "metadata": {},
     "output_type": "execute_result"
    }
   ],
   "source": [
    "data = np.loadtxt('ex2.txt', delimiter=',')\n",
    "X = data[:, :2]\n",
    "y = data[:, 2]\n",
    "pd.DataFrame(data).head()"
   ]
  },
  {
   "cell_type": "markdown",
   "id": "10341742",
   "metadata": {},
   "source": [
    "## Plot the Data"
   ]
  },
  {
   "cell_type": "code",
   "execution_count": 3,
   "id": "37677d41",
   "metadata": {},
   "outputs": [],
   "source": [
    "def plotData(X, y):\n",
    "    \"\"\"\n",
    "    Plots the data points with '+' for the positive examples and 'o' for the negative examples.\n",
    "    X is assumed to be a Mx2 matrix.\n",
    "    \"\"\"\n",
    "    # Find Indices of Positive and Negative Examples\n",
    "    pos = X[np.where(y == 1)].T\n",
    "    neg = X[np.where(y == 0)].T\n",
    "\n",
    "    plt.plot(pos[0], pos[1], 'k+', linewidth='2', markersize='7')\n",
    "    plt.plot(neg[0], neg[1], 'ko', markerfacecolor='y', markersize='7')"
   ]
  },
  {
   "cell_type": "code",
   "execution_count": 4,
   "id": "e97b2217",
   "metadata": {},
   "outputs": [
    {
     "data": {
      "image/png": "[encoded data removed]",
      "text/plain": [
       "<Figure size 432x288 with 1 Axes>"
      ]
     },
     "metadata": {
      "needs_background": "light"
     },
     "output_type": "display_data"
    }
   ],
   "source": [
    "plotData(X, y)\n",
    "\n",
    "# Labels and Legend\n",
    "plt.xlabel('Microchip Test 1')\n",
    "plt.ylabel('Microchip Test 2')\n",
    "plt.legend(['y = 1', 'y = 0'])\n",
    "plt.show()"
   ]
  },
  {
   "cell_type": "markdown",
   "id": "789dc0de",
   "metadata": {},
   "source": [
    "## Feature Mapping"
   ]
  },
  {
   "cell_type": "code",
   "execution_count": 5,
   "id": "f581a901",
   "metadata": {},
   "outputs": [],
   "source": [
    "def mapFeature(X1, X2):\n",
    "    \"\"\"\n",
    "    Maps the two input features to quadratic features used in the regularization exercise.\n",
    "    Returns a new feature array with more features.\n",
    "    Inputs X1, X2 must be the same size.\n",
    "    \"\"\"\n",
    "    m = X1.size\n",
    "    \n",
    "    degree = 6\n",
    "    out = np.c_[np.ones(m)]\n",
    "    \n",
    "    for i in range(1, degree+1):\n",
    "        for j in range(i+1):\n",
    "            terms = (X1 ** (i - j) * X2 ** j)\n",
    "            out = np.c_[out, terms]\n",
    "\n",
    "    return out"
   ]
  },
  {
   "cell_type": "code",
   "execution_count": 6,
   "id": "90370960",
   "metadata": {},
   "outputs": [
    {
     "data": {
      "text/plain": [
       "(118, 28)"
      ]
     },
     "execution_count": 6,
     "metadata": {},
     "output_type": "execute_result"
    }
   ],
   "source": [
    "# Updates X with more features\n",
    "X = mapFeature(X[:, 0], X[:, 1])\n",
    "X.shape"
   ]
  },
  {
   "cell_type": "markdown",
   "id": "33248a43",
   "metadata": {},
   "source": [
    "## Sigmoid Function"
   ]
  },
  {
   "cell_type": "code",
   "execution_count": 7,
   "id": "5781a54a",
   "metadata": {},
   "outputs": [],
   "source": [
    "def sigmoid(z):\n",
    "    \"\"\"\n",
    "    Computes the sigmoid of z\n",
    "    \"\"\"\n",
    "    g = 1 / (1 + np.exp(-z))\n",
    "    return g"
   ]
  },
  {
   "cell_type": "markdown",
   "id": "4cffc4db",
   "metadata": {},
   "source": [
    "## Regularized Cost"
   ]
  },
  {
   "cell_type": "code",
   "execution_count": 8,
   "id": "54a15aea",
   "metadata": {},
   "outputs": [],
   "source": [
    "def compute_cost(theta, X, y, lamb):\n",
    "    \"\"\"\n",
    "    Computes the cost of using theta as the parameter for regularized logistic regression\n",
    "    \"\"\"\n",
    "    # Compute Sigmoid of X * theta\n",
    "    h = sigmoid(X.dot(theta))\n",
    "    # Unregularized cost\n",
    "    J = 1/m * (-y.T.dot(np.log(h)) - (1-y).T.dot(np.log(1-h)))\n",
    "    \n",
    "    # Ignores theta_0\n",
    "    theta = theta[1:]\n",
    "    # Regularization Parameter\n",
    "    reg = lamb / (2*m) * np.sum(theta ** 2)\n",
    "    # Regularized cost\n",
    "    J = J + reg\n",
    "    return J"
   ]
  },
  {
   "cell_type": "markdown",
   "id": "a10e28e0",
   "metadata": {},
   "source": [
    "## Regularized Gradient"
   ]
  },
  {
   "cell_type": "code",
   "execution_count": 9,
   "id": "b61065ae",
   "metadata": {},
   "outputs": [],
   "source": [
    "def compute_grad(theta, X, y, lamb):\n",
    "    \"\"\"\n",
    "    Computes the gradient of using theta as the parameter for regularized logistic regression\n",
    "    w.r.t to the parameters.\n",
    "    \"\"\"\n",
    "    # # Compute Sigmoid of X * theta\n",
    "    h = sigmoid(X.dot(theta))\n",
    "    # Unregularized gradient\n",
    "    grad = (1/m) * X.T.dot(h-y)\n",
    "    \n",
    "    # Ignores theta_0\n",
    "    theta = theta[1:]\n",
    "    # Regularized gradient\n",
    "    grad[1:] = grad[1:] + (lamb/m) * theta\n",
    "    return grad"
   ]
  },
  {
   "cell_type": "markdown",
   "id": "41ecb477",
   "metadata": {},
   "source": [
    "## Compute Regularized Cost & Gradient"
   ]
  },
  {
   "cell_type": "code",
   "execution_count": 10,
   "id": "4e5de5ea",
   "metadata": {},
   "outputs": [],
   "source": [
    "m, n = X.shape"
   ]
  },
  {
   "cell_type": "markdown",
   "id": "aa3bc8eb",
   "metadata": {},
   "source": [
    "**Theta all zero and Lambda = 1**"
   ]
  },
  {
   "cell_type": "code",
   "execution_count": 11,
   "id": "483bd7d1",
   "metadata": {},
   "outputs": [],
   "source": [
    "lamb = 1\n",
    "initial_theta = np.zeros((n, 1))"
   ]
  },
  {
   "cell_type": "code",
   "execution_count": 12,
   "id": "3effb08b",
   "metadata": {},
   "outputs": [],
   "source": [
    "z_cost, z_grad = compute_cost(initial_theta, X, y, lamb), compute_grad(initial_theta, X, data[:, [2]], lamb)"
   ]
  },
  {
   "cell_type": "code",
   "execution_count": 13,
   "id": "54b1ae57",
   "metadata": {},
   "outputs": [
    {
     "name": "stdout",
     "output_type": "stream",
     "text": [
      "Cost at Initial theta(zeros): 0.693\n"
     ]
    }
   ],
   "source": [
    "print(\"Cost at Initial theta(zeros): {:.3f}\".format(z_cost[0]))"
   ]
  },
  {
   "cell_type": "code",
   "execution_count": 14,
   "id": "1c02d599",
   "metadata": {},
   "outputs": [
    {
     "name": "stdout",
     "output_type": "stream",
     "text": [
      "Gradient at initial theta (zeros) - first five values only:\n",
      "\t0.0085\n",
      "\t0.0188\n",
      "\t0.0001\n",
      "\t0.0503\n",
      "\t0.0115\n"
     ]
    }
   ],
   "source": [
    "print('Gradient at initial theta (zeros) - first five values only:');\n",
    "for i in range(5):\n",
    "    print(\"\\t{:.4f}\".format(z_grad[i][0]))"
   ]
  },
  {
   "cell_type": "markdown",
   "id": "9b0d16da",
   "metadata": {},
   "source": [
    "**Theta all one and Lambda = 10**"
   ]
  },
  {
   "cell_type": "code",
   "execution_count": 15,
   "id": "3d4138cb",
   "metadata": {},
   "outputs": [],
   "source": [
    "test_theta = np.ones((n, 1))\n",
    "lamb = 10"
   ]
  },
  {
   "cell_type": "code",
   "execution_count": 16,
   "id": "f35249aa",
   "metadata": {},
   "outputs": [],
   "source": [
    "o_cost, o_grad = compute_cost(test_theta, X, y, lamb), compute_grad(test_theta, X, data[:, [2]], lamb)"
   ]
  },
  {
   "cell_type": "code",
   "execution_count": 17,
   "id": "9c10f688",
   "metadata": {},
   "outputs": [
    {
     "name": "stdout",
     "output_type": "stream",
     "text": [
      "Cost at test theta (with lambda=10): 3.16\n"
     ]
    }
   ],
   "source": [
    "print(\"Cost at test theta (with lambda=10): {:.2f}\".format(o_cost[0]))"
   ]
  },
  {
   "cell_type": "code",
   "execution_count": 18,
   "id": "bd28c2fc",
   "metadata": {},
   "outputs": [
    {
     "name": "stdout",
     "output_type": "stream",
     "text": [
      "Gradient at test theta (zeros) - first five values only:\n",
      "\t0.3460\n",
      "\t0.1614\n",
      "\t0.1948\n",
      "\t0.2269\n",
      "\t0.0922\n"
     ]
    }
   ],
   "source": [
    "print('Gradient at test theta (zeros) - first five values only:');\n",
    "for i in range(5):\n",
    "    print(\"\\t{:.4f}\".format(o_grad[i][0]))"
   ]
  },
  {
   "cell_type": "markdown",
   "id": "99ccdf5c",
   "metadata": {},
   "source": [
    "## `fmin_bfgs`"
   ]
  },
  {
   "cell_type": "code",
   "execution_count": 19,
   "id": "7d06b0e6",
   "metadata": {},
   "outputs": [],
   "source": [
    "def f_cost(theta):\n",
    "    return compute_cost(theta, X, y, lamb).flatten()"
   ]
  },
  {
   "cell_type": "code",
   "execution_count": 20,
   "id": "4027614f",
   "metadata": {},
   "outputs": [],
   "source": [
    "def f_grad(theta):\n",
    "    return compute_grad(theta, X, y, lamb).flatten()"
   ]
  },
  {
   "cell_type": "code",
   "execution_count": 21,
   "id": "4bf9da06",
   "metadata": {},
   "outputs": [
    {
     "name": "stdout",
     "output_type": "stream",
     "text": [
      "Optimization terminated successfully.\n",
      "         Current function value: 0.529003\n",
      "         Iterations: 47\n",
      "         Function evaluations: 48\n",
      "         Gradient evaluations: 48\n"
     ]
    }
   ],
   "source": [
    "lamb = 1\n",
    "theta = fmin_bfgs(f_cost, initial_theta, f_grad)"
   ]
  },
  {
   "cell_type": "code",
   "execution_count": 22,
   "id": "7e34f1c4",
   "metadata": {},
   "outputs": [
    {
     "name": "stdout",
     "output_type": "stream",
     "text": [
      "Gradient using fmin_bfgs - first five values only:\n",
      "\t1.2727\n",
      "\t0.6256\n",
      "\t1.1810\n",
      "\t-2.0192\n",
      "\t-0.9176\n"
     ]
    }
   ],
   "source": [
    "theta = theta.reshape(n, 1)\n",
    "print('Gradient using fmin_bfgs - first five values only:');\n",
    "for i in range(5):\n",
    "    print(\"\\t{:.4f}\".format(theta[i][0]))"
   ]
  },
  {
   "cell_type": "markdown",
   "id": "517d31bb",
   "metadata": {},
   "source": [
    "## Plotting Decision Boundary"
   ]
  },
  {
   "cell_type": "code",
   "execution_count": 23,
   "id": "d296e7d7",
   "metadata": {},
   "outputs": [],
   "source": [
    "def plotDecBoundary(theta, X, y):\n",
    "    u = np.linspace(-1, 1.5, 50)\n",
    "    v = np.linspace(-1, 1.5, 50)\n",
    "    z = np.zeros((len(u), len(v)))\n",
    "    \n",
    "    # Feature Mapping\n",
    "    for i in range(len(u)):\n",
    "        for j in range(len(v)):\n",
    "            z[i, j] = mapFeature(u[i], v[j]).dot(theta)\n",
    "    \n",
    "    # Transpose 'z'\n",
    "    z = z.T\n",
    "    \n",
    "    # Find Indices of Positive and Negative Examples\n",
    "    pos = X[np.where(y == 1)].T\n",
    "    neg = X[np.where(y == 0)].T\n",
    "    \n",
    "    # Plot\n",
    "    fig, ax = plt.subplots()\n",
    "    cnt = ax.contour(u, v, z, 0)\n",
    "    p_pos, = ax.plot(pos[0], pos[1], 'k+', linewidth='2', markersize='7')\n",
    "    p_neg, = ax.plot(neg[0], neg[1], 'ko', markerfacecolor='y', markersize='7')\n",
    "    \n",
    "    # Legend, Labels, and Title\n",
    "    h1,_ = cnt.legend_elements()\n",
    "    ax.legend([p_pos, p_neg, h1[1]], ['y = 1', 'y = 0', 'Decision Boundary'])\n",
    "    ax.set_title('lambda = {}'.format(lamb))\n",
    "    ax.set_xlabel(\"Microchip Test 1\")\n",
    "    ax.set_ylabel(\"Microchip Test 2\")"
   ]
  },
  {
   "cell_type": "markdown",
   "id": "1ead7738",
   "metadata": {},
   "source": [
    "#### Plot with different lambda"
   ]
  },
  {
   "cell_type": "code",
   "execution_count": 24,
   "id": "2db13fd0",
   "metadata": {
    "scrolled": true
   },
   "outputs": [
    {
     "data": {
      "image/png": "[encoded data removed]",
      "text/plain": [
       "<Figure size 432x288 with 1 Axes>"
      ]
     },
     "metadata": {
      "needs_background": "light"
     },
     "output_type": "display_data"
    }
   ],
   "source": [
    "plotDecBoundary(theta, data[:, :2], y)"
   ]
  },
  {
   "cell_type": "code",
   "execution_count": 25,
   "id": "28fb0c1f",
   "metadata": {},
   "outputs": [
    {
     "name": "stdout",
     "output_type": "stream",
     "text": [
      "Optimization terminated successfully.\n",
      "         Current function value: 0.224569\n",
      "         Iterations: 546\n",
      "         Function evaluations: 547\n",
      "         Gradient evaluations: 547\n"
     ]
    },
    {
     "data": {
      "image/png": "[encoded data removed]",
      "text/plain": [
       "<Figure size 432x288 with 1 Axes>"
      ]
     },
     "metadata": {
      "needs_background": "light"
     },
     "output_type": "display_data"
    }
   ],
   "source": [
    "lamb = 0\n",
    "theta = fmin_bfgs(f_cost, initial_theta, f_grad)\n",
    "plotDecBoundary(theta, data[:, :2], y)"
   ]
  },
  {
   "cell_type": "code",
   "execution_count": 26,
   "id": "fd9118dd",
   "metadata": {
    "scrolled": false
   },
   "outputs": [
    {
     "name": "stdout",
     "output_type": "stream",
     "text": [
      "Optimization terminated successfully.\n",
      "         Current function value: 0.648216\n",
      "         Iterations: 21\n",
      "         Function evaluations: 22\n",
      "         Gradient evaluations: 22\n"
     ]
    },
    {
     "data": {
      "image/png": "[encoded data removed]",
      "text/plain": [
       "<Figure size 432x288 with 1 Axes>"
      ]
     },
     "metadata": {
      "needs_background": "light"
     },
     "output_type": "display_data"
    }
   ],
   "source": [
    "lamb = 10\n",
    "theta = fmin_bfgs(f_cost, initial_theta, f_grad)\n",
    "plotDecBoundary(theta, data[:, :2], y)"
   ]
  },
  {
   "cell_type": "code",
   "execution_count": 27,
   "id": "c48e0f57",
   "metadata": {},
   "outputs": [
    {
     "name": "stdout",
     "output_type": "stream",
     "text": [
      "Optimization terminated successfully.\n",
      "         Current function value: 0.686484\n",
      "         Iterations: 7\n",
      "         Function evaluations: 8\n",
      "         Gradient evaluations: 8\n"
     ]
    },
    {
     "data": {
      "image/png": "[encoded data removed]",
      "text/plain": [
       "<Figure size 432x288 with 1 Axes>"
      ]
     },
     "metadata": {
      "needs_background": "light"
     },
     "output_type": "display_data"
    }
   ],
   "source": [
    "lamb = 100\n",
    "theta = fmin_bfgs(f_cost, initial_theta, f_grad)\n",
    "plotDecBoundary(theta, data[:, :2], y)"
   ]
  },
  {
   "cell_type": "markdown",
   "id": "1893ec6e",
   "metadata": {},
   "source": [
    "## Train Accuracy"
   ]
  },
  {
   "cell_type": "code",
   "execution_count": 28,
   "id": "a7106c67",
   "metadata": {},
   "outputs": [
    {
     "name": "stdout",
     "output_type": "stream",
     "text": [
      "Optimization terminated successfully.\n",
      "         Current function value: 0.529003\n",
      "         Iterations: 47\n",
      "         Function evaluations: 48\n",
      "         Gradient evaluations: 48\n"
     ]
    }
   ],
   "source": [
    "lamb = 1 # Best lambda is 1\n",
    "theta = fmin_bfgs(f_cost, initial_theta, f_grad)"
   ]
  },
  {
   "cell_type": "code",
   "execution_count": 29,
   "id": "6181eed4",
   "metadata": {},
   "outputs": [],
   "source": [
    "def predict(theta, X):\n",
    "    h = sigmoid(X.dot(theta))\n",
    "    h = h >= 0.5\n",
    "    return h"
   ]
  },
  {
   "cell_type": "code",
   "execution_count": 30,
   "id": "8d3473d3",
   "metadata": {
    "scrolled": true
   },
   "outputs": [
    {
     "name": "stdout",
     "output_type": "stream",
     "text": [
      "Train Accuracy: 83.050847\n"
     ]
    }
   ],
   "source": [
    "accuracy = np.mean(predict(theta, X) == y) * 100\n",
    "print(\"Train Accuracy: {:.6f}\".format(accuracy))"
   ]
  }
 ],
 "metadata": {
  "kernelspec": {
   "display_name": "Python 3 (ipykernel)",
   "language": "python",
   "name": "python3"
  },
  "language_info": {
   "codemirror_mode": {
    "name": "ipython",
    "version": 3
   },
   "file_extension": ".py",
   "mimetype": "text/x-python",
   "name": "python",
   "nbconvert_exporter": "python",
   "pygments_lexer": "ipython3",
   "version": "3.9.7"
  }
 },
 "nbformat": 4,
 "nbformat_minor": 5
}
