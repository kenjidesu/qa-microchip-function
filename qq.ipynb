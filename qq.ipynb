{
 "cells": [
  {
   "cell_type": "markdown",
   "id": "c4a055a1",
   "metadata": {},
   "source": [
    "- Load the Data [DONE]\n",
    "- Plot the Data [DONE]\n",
    "- Feature Mapping [DONE]\n",
    "- Cost Function & Gradient [DONE]\n",
    "- Sklearn Function [DONE]\n",
    "- Plotting the Decision Boundary [DONE]\n",
    "- Accuracy of the Function [DONE]\n",
    "- Clean Notebook [...]\n",
    "- Update README.md [...]"
   ]
  },
  {
   "cell_type": "code",
   "execution_count": 1,
   "id": "9a022ccc",
   "metadata": {},
   "outputs": [],
   "source": [
    "import numpy as np\n",
    "import pandas as pd\n",
    "import matplotlib.pyplot as plt\n",
    "%matplotlib inline\n",
    "from sklearn.linear_model import LogisticRegression"
   ]
  },
  {
   "cell_type": "markdown",
   "id": "2d5a3b44",
   "metadata": {},
   "source": [
    "# Load Data"
   ]
  },
  {
   "cell_type": "code",
   "execution_count": 2,
   "id": "146da0bc",
   "metadata": {},
   "outputs": [
    {
     "data": {
      "text/html": [
       "<div>\n",
       "<style scoped>\n",
       "    .dataframe tbody tr th:only-of-type {\n",
       "        vertical-align: middle;\n",
       "    }\n",
       "\n",
       "    .dataframe tbody tr th {\n",
       "        vertical-align: top;\n",
       "    }\n",
       "\n",
       "    .dataframe thead th {\n",
       "        text-align: right;\n",
       "    }\n",
       "</style>\n",
       "<table border=\"1\" class=\"dataframe\">\n",
       "  <thead>\n",
       "    <tr style=\"text-align: right;\">\n",
       "      <th></th>\n",
       "      <th>0</th>\n",
       "      <th>1</th>\n",
       "      <th>2</th>\n",
       "    </tr>\n",
       "  </thead>\n",
       "  <tbody>\n",
       "    <tr>\n",
       "      <th>0</th>\n",
       "      <td>0.051267</td>\n",
       "      <td>0.69956</td>\n",
       "      <td>1</td>\n",
       "    </tr>\n",
       "    <tr>\n",
       "      <th>1</th>\n",
       "      <td>-0.092742</td>\n",
       "      <td>0.68494</td>\n",
       "      <td>1</td>\n",
       "    </tr>\n",
       "    <tr>\n",
       "      <th>2</th>\n",
       "      <td>-0.213710</td>\n",
       "      <td>0.69225</td>\n",
       "      <td>1</td>\n",
       "    </tr>\n",
       "    <tr>\n",
       "      <th>3</th>\n",
       "      <td>-0.375000</td>\n",
       "      <td>0.50219</td>\n",
       "      <td>1</td>\n",
       "    </tr>\n",
       "    <tr>\n",
       "      <th>4</th>\n",
       "      <td>-0.513250</td>\n",
       "      <td>0.46564</td>\n",
       "      <td>1</td>\n",
       "    </tr>\n",
       "  </tbody>\n",
       "</table>\n",
       "</div>"
      ],
      "text/plain": [
       "          0        1  2\n",
       "0  0.051267  0.69956  1\n",
       "1 -0.092742  0.68494  1\n",
       "2 -0.213710  0.69225  1\n",
       "3 -0.375000  0.50219  1\n",
       "4 -0.513250  0.46564  1"
      ]
     },
     "execution_count": 2,
     "metadata": {},
     "output_type": "execute_result"
    }
   ],
   "source": [
    "data = pd.read_csv('ex2.txt', header=None)\n",
    "data.head()"
   ]
  },
  {
   "cell_type": "code",
   "execution_count": 25,
   "id": "aa4b8704",
   "metadata": {},
   "outputs": [],
   "source": [
    "X = data.iloc[:, [0, 1]]\n",
    "y = data.iloc[:, [2]]"
   ]
  },
  {
   "cell_type": "markdown",
   "id": "63709cad",
   "metadata": {},
   "source": [
    "# Plot the Data"
   ]
  },
  {
   "cell_type": "code",
   "execution_count": 4,
   "id": "5242c3f0",
   "metadata": {},
   "outputs": [],
   "source": [
    "def plotData(X, y):\n",
    "    # Visualize Data\n",
    "    pos = np.where(y == 1)\n",
    "    neg = np.where(y == 0)\n",
    "\n",
    "    plt.plot(X.iloc[pos[0]][0], X.iloc[pos[0]][1], 'k+', linewidth='2', markersize='7')\n",
    "    plt.plot(X.iloc[neg[0]][0], X.iloc[neg[0]][1], 'ko', markerfacecolor='y', markersize='7')"
   ]
  },
  {
   "cell_type": "code",
   "execution_count": 5,
   "id": "3077e381",
   "metadata": {},
   "outputs": [
    {
     "data": {
      "image/png": "[encoded data removed]",
      "text/plain": [
       "<Figure size 432x288 with 1 Axes>"
      ]
     },
     "metadata": {
      "needs_background": "light"
     },
     "output_type": "display_data"
    }
   ],
   "source": [
    "plotData(X, y)\n",
    "# Labels and Legend\n",
    "plt.xlabel('Microchip Test 1')\n",
    "plt.ylabel('Microchip Test 2')\n",
    "plt.legend(['y = 1', 'y = 0'])\n",
    "plt.show()"
   ]
  },
  {
   "cell_type": "markdown",
   "id": "4dc0d2fa",
   "metadata": {},
   "source": [
    "# Feature Mapping"
   ]
  },
  {
   "cell_type": "code",
   "execution_count": 6,
   "id": "14f488df",
   "metadata": {},
   "outputs": [],
   "source": [
    "def mapFeature(X1, X2):\n",
    "    m = X1.size\n",
    "    \n",
    "    degree = 6\n",
    "    out = np.c_[np.ones(m)]\n",
    "    \n",
    "    for i in range(1, degree+1):\n",
    "        for j in range(i+1):\n",
    "            terms = (X1 ** (i - j) * X2 ** j)\n",
    "            out = np.c_[out, terms]\n",
    "\n",
    "    return out"
   ]
  },
  {
   "cell_type": "code",
   "execution_count": 7,
   "id": "63b62339",
   "metadata": {},
   "outputs": [],
   "source": [
    "X = mapFeature(X.iloc[:, 0], X.iloc[:, 1])"
   ]
  },
  {
   "cell_type": "markdown",
   "id": "1bfb08f7",
   "metadata": {},
   "source": [
    "# Sigmoid Function"
   ]
  },
  {
   "cell_type": "code",
   "execution_count": 8,
   "id": "85a0329b",
   "metadata": {},
   "outputs": [],
   "source": [
    "def sigmoid(z):\n",
    "    g = 1 / (1 + np.exp(-z))\n",
    "    return g"
   ]
  },
  {
   "cell_type": "markdown",
   "id": "58c01d8b",
   "metadata": {},
   "source": [
    "# Cost Function"
   ]
  },
  {
   "cell_type": "code",
   "execution_count": 9,
   "id": "df6f53ee",
   "metadata": {},
   "outputs": [],
   "source": [
    "def costFunction(theta, X, y):\n",
    "    m = len(y)\n",
    "    h = sigmoid(X.dot(theta))\n",
    "    \n",
    "    J = 1/m * (-y.T.dot(np.log(h)) - (1-y).T.dot(np.log(1-h)))\n",
    "    grad = (1/m) * X.T.dot(h-y)\n",
    "    return J, grad"
   ]
  },
  {
   "cell_type": "markdown",
   "id": "41af15b1",
   "metadata": {},
   "source": [
    "# Regularized Cost Function & Gradient"
   ]
  },
  {
   "cell_type": "code",
   "execution_count": 10,
   "id": "8be2d0d8",
   "metadata": {},
   "outputs": [],
   "source": [
    "def costFuncReg(theta, X, y, lamb):\n",
    "    \n",
    "    m = len(y)\n",
    "    [cost, desc] = costFunction(theta, X, y)\n",
    "    grad = np.zeros_like(theta)\n",
    "    # ignore theta_0\n",
    "    theta = theta[1:, :]\n",
    "    # regularized\n",
    "    reg = lamb / (2*m) * np.sum(theta ** 2)\n",
    "    J = cost + reg\n",
    "    \n",
    "    grad[0] = desc[0]\n",
    "    grad[1:, :] = desc[1:, :] + (lamb/m) * theta\n",
    "    return J, grad"
   ]
  },
  {
   "cell_type": "code",
   "execution_count": 11,
   "id": "6e7809cd",
   "metadata": {},
   "outputs": [
    {
     "name": "stdout",
     "output_type": "stream",
     "text": [
      "Cost at Initial theta(zeros): 0.693\n"
     ]
    }
   ],
   "source": [
    "# Initialize fitting parameters\n",
    "initial_theta = np.zeros((X.shape[1], 1))\n",
    "\n",
    "# Set regularization parameter lambda to 1\n",
    "lamb = 1\n",
    "\n",
    "# Compute and display initial cost and gradient for regularized logistic regression\n",
    "[z_cost, z_grad] = costFuncReg(initial_theta, X, y, 10)\n",
    "print(\"Cost at Initial theta(zeros): {:.3f}\".format(z_cost.iloc[0][0]))"
   ]
  },
  {
   "cell_type": "code",
   "execution_count": 12,
   "id": "db34d44a",
   "metadata": {},
   "outputs": [
    {
     "name": "stdout",
     "output_type": "stream",
     "text": [
      "Gradient at initial theta (zeros) - first five values only:\n",
      "0.0085\n",
      "0.0188\n",
      "0.0001\n",
      "0.0503\n",
      "0.0115\n"
     ]
    }
   ],
   "source": [
    "print('Gradient at initial theta (zeros) - first five values only:');\n",
    "for i in range(5):\n",
    "    print(\"{:.4f}\".format(z_grad[i][0]))"
   ]
  },
  {
   "cell_type": "code",
   "execution_count": 13,
   "id": "ae5e8045",
   "metadata": {},
   "outputs": [
    {
     "name": "stdout",
     "output_type": "stream",
     "text": [
      "Cost at test theta (with lambda=10): 3.16\n"
     ]
    }
   ],
   "source": [
    "# Compute and display cost and gradient with all-ones theta and lambda = 10\n",
    "test_theta = np.ones((X.shape[1], 1))\n",
    "[o_cost, o_grad] = costFuncReg(test_theta, X, y, 10)\n",
    "print(\"Cost at test theta (with lambda=10): {:.2f}\".format(o_cost.iloc[0][0]))"
   ]
  },
  {
   "cell_type": "code",
   "execution_count": 14,
   "id": "752b4c7a",
   "metadata": {},
   "outputs": [
    {
     "name": "stdout",
     "output_type": "stream",
     "text": [
      "Gradient at test theta (zeros) - first five values only:\n",
      "0.3460\n",
      "0.1614\n",
      "0.1948\n",
      "0.2269\n",
      "0.0922\n"
     ]
    }
   ],
   "source": [
    "print('Gradient at test theta (zeros) - first five values only:');\n",
    "for i in range(5):\n",
    "    print(\"{:.4f}\".format(o_grad[i][0]))"
   ]
  },
  {
   "cell_type": "markdown",
   "id": "666528f2",
   "metadata": {},
   "source": [
    "# Sklearn Logistic Regression\n",
    "- Figure this out, let's see if plot decision boundary is the same with MATLAB coursera"
   ]
  },
  {
   "cell_type": "code",
   "execution_count": 15,
   "id": "93ac1329",
   "metadata": {},
   "outputs": [
    {
     "data": {
      "text/plain": [
       "(1.2728172663907045, -9.403168960635822e-05)"
      ]
     },
     "execution_count": 15,
     "metadata": {},
     "output_type": "execute_result"
    }
   ],
   "source": [
    "y = data.iloc[:, 2]\n",
    "log_reg = LogisticRegression()\n",
    "log_reg.fit(X, y)\n",
    "log_reg.intercept_[0], log_reg.coef_[0][0]"
   ]
  },
  {
   "cell_type": "code",
   "execution_count": 16,
   "id": "92c6c1c7",
   "metadata": {},
   "outputs": [],
   "source": [
    "log_reg.coef_[0][0] = log_reg.intercept_[0]"
   ]
  },
  {
   "cell_type": "code",
   "execution_count": 17,
   "id": "4a948a70",
   "metadata": {},
   "outputs": [],
   "source": [
    "theta = log_reg.coef_.T"
   ]
  },
  {
   "cell_type": "code",
   "execution_count": 18,
   "id": "6a239eb3",
   "metadata": {
    "scrolled": true
   },
   "outputs": [
    {
     "name": "stdout",
     "output_type": "stream",
     "text": [
      "1.2728\n",
      "0.6252\n",
      "1.1811\n",
      "-2.0200\n",
      "-0.9174\n"
     ]
    }
   ],
   "source": [
    "for i in range(5):\n",
    "    print(\"{:.4f}\".format(log_reg.coef_[0][i]))"
   ]
  },
  {
   "cell_type": "markdown",
   "id": "9c27fc77",
   "metadata": {},
   "source": [
    "# Plot Decision Boundary"
   ]
  },
  {
   "cell_type": "code",
   "execution_count": 19,
   "id": "584e4153",
   "metadata": {},
   "outputs": [],
   "source": [
    "def plotDecBoundary(theta, X, y):\n",
    "    u = np.linspace(-1, 1.5, 50)\n",
    "    v = np.linspace(-1, 1.5, 50)\n",
    "    \n",
    "    z = np.zeros((len(u), len(v)))\n",
    "    \n",
    "    for i in range(len(u)):\n",
    "        for j in range(len(v)):\n",
    "            z[i, j] = mapFeature(u[i], v[j]).dot(theta)\n",
    "            \n",
    "    z = z.T\n",
    "    plt.contour(u, v, z, [0][0])\n",
    "            "
   ]
  },
  {
   "cell_type": "code",
   "execution_count": 20,
   "id": "ab4c974e",
   "metadata": {
    "scrolled": false
   },
   "outputs": [
    {
     "data": {
      "image/png": "[encoded data removed]",
      "text/plain": [
       "<Figure size 432x288 with 1 Axes>"
      ]
     },
     "metadata": {
      "needs_background": "light"
     },
     "output_type": "display_data"
    }
   ],
   "source": [
    "plotData(data.iloc[:, [0, 1]], y)\n",
    "plotDecBoundary(theta, data.iloc[:, [0, 1]], y)\n",
    "plt.xlabel(\"Microchip Test 1\")\n",
    "plt.ylabel(\"Microchip Test 2\")\n",
    "plt.legend(['y = 1', 'y = 0', 'Decision boundary'])\n",
    "plt.show()"
   ]
  },
  {
   "cell_type": "markdown",
   "id": "7c8a3231",
   "metadata": {},
   "source": [
    "# Predicition Accuracy"
   ]
  },
  {
   "cell_type": "code",
   "execution_count": 21,
   "id": "72cba406",
   "metadata": {},
   "outputs": [
    {
     "data": {
      "text/plain": [
       "0.6186440677966102"
      ]
     },
     "execution_count": 21,
     "metadata": {},
     "output_type": "execute_result"
    }
   ],
   "source": [
    "log_reg.score(X, y)"
   ]
  },
  {
   "cell_type": "code",
   "execution_count": 22,
   "id": "ac0bbd69",
   "metadata": {},
   "outputs": [],
   "source": [
    "ss = sigmoid(X.dot(theta))\n",
    "ss = ss >= 0.5"
   ]
  },
  {
   "cell_type": "code",
   "execution_count": 23,
   "id": "18759941",
   "metadata": {},
   "outputs": [
    {
     "name": "stdout",
     "output_type": "stream",
     "text": [
      "Train Accuracy: 83.050847\n"
     ]
    }
   ],
   "source": [
    "accuracy = np.mean(ss == data.iloc[:, [2]]) * 100\n",
    "print(\"Train Accuracy: {:.6f}\".format(accuracy.iloc[0]))"
   ]
  },
  {
   "cell_type": "markdown",
   "id": "ca41d387",
   "metadata": {},
   "source": [
    "# scipy.optimize.fmin_bfgs\n",
    "Learn how to use this, rewrite it to another notebook\n",
    "This is basically the fminunc of python\n",
    "Use the same data for testing"
   ]
  },
  {
   "cell_type": "code",
   "execution_count": 24,
   "id": "6ae4ae18",
   "metadata": {},
   "outputs": [
    {
     "data": {
      "text/plain": [
       "(118, 28)"
      ]
     },
     "execution_count": 24,
     "metadata": {},
     "output_type": "execute_result"
    }
   ],
   "source": [
    "X.shape"
   ]
  },
  {
   "cell_type": "code",
   "execution_count": null,
   "id": "4fe6565e",
   "metadata": {},
   "outputs": [],
   "source": []
  }
 ],
 "metadata": {
  "kernelspec": {
   "display_name": "Python 3 (ipykernel)",
   "language": "python",
   "name": "python3"
  },
  "language_info": {
   "codemirror_mode": {
    "name": "ipython",
    "version": 3
   },
   "file_extension": ".py",
   "mimetype": "text/x-python",
   "name": "python",
   "nbconvert_exporter": "python",
   "pygments_lexer": "ipython3",
   "version": "3.9.7"
  }
 },
 "nbformat": 4,
 "nbformat_minor": 5
}
